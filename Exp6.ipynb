{
  "cells": [
    {
      "cell_type": "markdown",
      "metadata": {
        "id": "lxUq5BcuiY_P"
      },
      "source": [
        "**Importing required libraries**"
      ]
    },
    {
      "cell_type": "code",
      "execution_count": null,
      "metadata": {
        "id": "cxduNl94ghH1"
      },
      "outputs": [],
      "source": [
        "from __future__ import print_function\n",
        "from keras_preprocessing import sequence\n",
        "from keras.models import Sequential\n",
        "from keras.layers import Dense, Embedding, LSTM\n",
        "from keras.datasets import imdb\n",
        "import numpy as np\n",
        "import matplotlib.pyplot as plt\n",
        "%matplotlib inline"
      ]
    },
    {
      "cell_type": "markdown",
      "metadata": {
        "id": "8UXIdEUeimK_"
      },
      "source": [
        "**Import data and preprocessing**"
      ]
    },
    {
      "cell_type": "code",
      "execution_count": null,
      "metadata": {
        "colab": {
          "base_uri": "https://localhost:8080/"
        },
        "id": "zn9rq3NOgmZr",
        "outputId": "2f6a5cb7-f674-47d1-d485-5d1e8b8ca608"
      },
      "outputs": [
        {
          "output_type": "stream",
          "name": "stdout",
          "text": [
            "Loading data...\n",
            "Downloading data from https://storage.googleapis.com/tensorflow/tf-keras-datasets/imdb.npz\n",
            "17464789/17464789 [==============================] - 0s 0us/step\n",
            "25000 train sequences\n",
            "25000 test sequences\n",
            "\n",
            "Example one before our preprocessing\n",
            "[1, 14, 22, 16, 43, 530, 973, 1622, 1385, 65, 458, 4468, 66, 3941, 4, 173, 36, 256, 5, 25, 100, 43, 838, 112, 50, 670, 2, 9, 35, 480, 284, 5, 150, 4, 172, 112, 167, 2, 336, 385, 39, 4, 172, 4536, 1111, 17, 546, 38, 13, 447, 4, 192, 50, 16, 6, 147, 2025, 19, 14, 22, 4, 1920, 4613, 469, 4, 22, 71, 87, 12, 16, 43, 530, 38, 76, 15, 13, 1247, 4, 22, 17, 515, 17, 12, 16, 626, 18, 19193, 5, 62, 386, 12, 8, 316, 8, 106, 5, 4, 2223, 5244, 16, 480, 66, 3785, 33, 4, 130, 12, 16, 38, 619, 5, 25, 124, 51, 36, 135, 48, 25, 1415, 33, 6, 22, 12, 215, 28, 77, 52, 5, 14, 407, 16, 82, 10311, 8, 4, 107, 117, 5952, 15, 256, 4, 2, 7, 3766, 5, 723, 36, 71, 43, 530, 476, 26, 400, 317, 46, 7, 4, 12118, 1029, 13, 104, 88, 4, 381, 15, 297, 98, 32, 2071, 56, 26, 141, 6, 194, 7486, 18, 4, 226, 22, 21, 134, 476, 26, 480, 5, 144, 30, 5535, 18, 51, 36, 28, 224, 92, 25, 104, 4, 226, 65, 16, 38, 1334, 88, 12, 16, 283, 5, 16, 4472, 113, 103, 32, 15, 16, 5345, 19, 178, 32]\n"
          ]
        }
      ],
      "source": [
        "MAX_FEATURES = 20000\n",
        "# cut texts after this number of words (among top MAX_FEATURES most common words)\n",
        "MAX_SENTENCE_LENGTH = 80\n",
        "\n",
        "print('Loading data...')\n",
        "(x_train, y_train), (x_test, y_test) = imdb.load_data(num_words=MAX_FEATURES)\n",
        "print(len(x_train), 'train sequences')\n",
        "print(len(x_test), 'test sequences')\n",
        "\n",
        "# View one example of our dataset before our preprocessing.\n",
        "print(\"\\nExample one before our preprocessing\")\n",
        "print(x_train[0])"
      ]
    },
    {
      "cell_type": "code",
      "execution_count": null,
      "metadata": {
        "colab": {
          "base_uri": "https://localhost:8080/"
        },
        "id": "bz8ukmNtgzu3",
        "outputId": "557d4470-3dda-4220-a170-8542ab033ee2"
      },
      "outputs": [
        {
          "output_type": "stream",
          "name": "stdout",
          "text": [
            "\n",
            "\n",
            "Pad sequences (samples x time)\n",
            "x_train shape: (25000, 80)\n",
            "x_test shape: (25000, 80)\n",
            "\n",
            "Example one after our preprocessing\n",
            "[   15   256     4     2     7  3766     5   723    36    71    43   530\n",
            "   476    26   400   317    46     7     4 12118  1029    13   104    88\n",
            "     4   381    15   297    98    32  2071    56    26   141     6   194\n",
            "  7486    18     4   226    22    21   134   476    26   480     5   144\n",
            "    30  5535    18    51    36    28   224    92    25   104     4   226\n",
            "    65    16    38  1334    88    12    16   283     5    16  4472   113\n",
            "   103    32    15    16  5345    19   178    32]\n"
          ]
        }
      ],
      "source": [
        "print('\\n\\nPad sequences (samples x time)')\n",
        "x_train = sequence.pad_sequences(x_train, maxlen=MAX_SENTENCE_LENGTH)\n",
        "x_test = sequence.pad_sequences(x_test, maxlen=MAX_SENTENCE_LENGTH)\n",
        "print('x_train shape:', x_train.shape)\n",
        "print('x_test shape:', x_test.shape)\n",
        "\n",
        "# View one example of our dataset after our preprocessing.\n",
        "print(\"\\nExample one after our preprocessing\")\n",
        "print(x_train[0])"
      ]
    },
    {
      "cell_type": "markdown",
      "metadata": {
        "id": "GEuDBsSZhPVC"
      },
      "source": [
        "**LSTM Model for sentiment analysis**"
      ]
    },
    {
      "cell_type": "code",
      "execution_count": null,
      "metadata": {
        "colab": {
          "base_uri": "https://localhost:8080/"
        },
        "id": "D4f0iuxXg4X4",
        "outputId": "f55e7d07-73a6-4ea9-be60-d6f830d34504"
      },
      "outputs": [
        {
          "output_type": "stream",
          "name": "stdout",
          "text": [
            "Build model...\n"
          ]
        }
      ],
      "source": [
        "EMBEDDING_SIZE = 128\n",
        "HIDDEN_LAYER_SIZE = 128\n",
        "BATCH_SIZE = 32\n",
        "NUM_EPOCHS = 15\n",
        "\n",
        "print('Build model...')\n",
        "model = Sequential()\n",
        "model.add(Embedding(MAX_FEATURES, EMBEDDING_SIZE, input_length=MAX_SENTENCE_LENGTH))\n",
        "model.add(LSTM(HIDDEN_LAYER_SIZE, dropout=0.2, recurrent_dropout=0.2))\n",
        "model.add(Dense(1, activation='sigmoid'))"
      ]
    },
    {
      "cell_type": "code",
      "execution_count": null,
      "metadata": {
        "colab": {
          "base_uri": "https://localhost:8080/"
        },
        "id": "KBmkht-qhbF8",
        "outputId": "db3ad0ff-3fef-4f7b-b66d-3e3f2abc8b93"
      },
      "outputs": [
        {
          "output_type": "stream",
          "name": "stdout",
          "text": [
            "Model: \"sequential\"\n",
            "_________________________________________________________________\n",
            " Layer (type)                Output Shape              Param #   \n",
            "=================================================================\n",
            " embedding (Embedding)       (None, 80, 128)           2560000   \n",
            "                                                                 \n",
            " lstm (LSTM)                 (None, 128)               131584    \n",
            "                                                                 \n",
            " dense (Dense)               (None, 1)                 129       \n",
            "                                                                 \n",
            "=================================================================\n",
            "Total params: 2,691,713\n",
            "Trainable params: 2,691,713\n",
            "Non-trainable params: 0\n",
            "_________________________________________________________________\n"
          ]
        }
      ],
      "source": [
        "# summary of our model.\n",
        "model.summary()"
      ]
    },
    {
      "cell_type": "code",
      "execution_count": null,
      "metadata": {
        "id": "IbFUBuAThftl"
      },
      "outputs": [],
      "source": [
        "# Compile the model.\n",
        "model.compile(loss='binary_crossentropy',optimizer='adam',metrics=['accuracy'])"
      ]
    },
    {
      "cell_type": "markdown",
      "metadata": {
        "id": "mKhepCAfhseu"
      },
      "source": [
        "**Training and Evaluate the Model**"
      ]
    },
    {
      "cell_type": "code",
      "execution_count": null,
      "metadata": {
        "colab": {
          "base_uri": "https://localhost:8080/"
        },
        "id": "7f3M2sTehkic",
        "outputId": "6f38421f-0dff-4b49-b3c3-3bcca7396272"
      },
      "outputs": [
        {
          "output_type": "stream",
          "name": "stdout",
          "text": [
            "Epoch 1/15\n",
            "782/782 [==============================] - 228s 287ms/step - loss: 0.4347 - accuracy: 0.7931 - val_loss: 0.3542 - val_accuracy: 0.8445\n",
            "Epoch 2/15\n",
            "782/782 [==============================] - 229s 293ms/step - loss: 0.2551 - accuracy: 0.8973 - val_loss: 0.4593 - val_accuracy: 0.8270\n",
            "Epoch 3/15\n",
            "782/782 [==============================] - 227s 290ms/step - loss: 0.1603 - accuracy: 0.9407 - val_loss: 0.4976 - val_accuracy: 0.8276\n",
            "Epoch 4/15\n",
            "782/782 [==============================] - 224s 287ms/step - loss: 0.1024 - accuracy: 0.9638 - val_loss: 0.5900 - val_accuracy: 0.8224\n",
            "Epoch 5/15\n",
            "782/782 [==============================] - 224s 286ms/step - loss: 0.0697 - accuracy: 0.9761 - val_loss: 0.7982 - val_accuracy: 0.8188\n",
            "Epoch 6/15\n",
            "782/782 [==============================] - 223s 285ms/step - loss: 0.0523 - accuracy: 0.9824 - val_loss: 0.7531 - val_accuracy: 0.8205\n",
            "Epoch 7/15\n",
            "782/782 [==============================] - 225s 288ms/step - loss: 0.0385 - accuracy: 0.9868 - val_loss: 0.7228 - val_accuracy: 0.8138\n",
            "Epoch 8/15\n",
            "782/782 [==============================] - 227s 290ms/step - loss: 0.0332 - accuracy: 0.9888 - val_loss: 0.7635 - val_accuracy: 0.8159\n",
            "Epoch 9/15\n",
            "782/782 [==============================] - 224s 286ms/step - loss: 0.0199 - accuracy: 0.9939 - val_loss: 1.1148 - val_accuracy: 0.8144\n",
            "Epoch 10/15\n",
            "782/782 [==============================] - 225s 288ms/step - loss: 0.0180 - accuracy: 0.9943 - val_loss: 1.0406 - val_accuracy: 0.8190\n",
            "Epoch 11/15\n",
            "782/782 [==============================] - 224s 286ms/step - loss: 0.0131 - accuracy: 0.9960 - val_loss: 0.9229 - val_accuracy: 0.8185\n",
            "Epoch 12/15\n",
            "782/782 [==============================] - 232s 297ms/step - loss: 0.0118 - accuracy: 0.9964 - val_loss: 1.0890 - val_accuracy: 0.8114\n",
            "Epoch 13/15\n",
            "782/782 [==============================] - 238s 304ms/step - loss: 0.0165 - accuracy: 0.9949 - val_loss: 0.8918 - val_accuracy: 0.8058\n",
            "Epoch 14/15\n",
            "782/782 [==============================] - 237s 303ms/step - loss: 0.0130 - accuracy: 0.9957 - val_loss: 1.0717 - val_accuracy: 0.8162\n",
            "Epoch 15/15\n",
            "782/782 [==============================] - 239s 306ms/step - loss: 0.0072 - accuracy: 0.9979 - val_loss: 1.0469 - val_accuracy: 0.8147\n"
          ]
        }
      ],
      "source": [
        "history = model.fit(x_train, y_train,batch_size=BATCH_SIZE,epochs=NUM_EPOCHS,\n",
        "          validation_data=(x_test, y_test))"
      ]
    },
    {
      "cell_type": "code",
      "execution_count": null,
      "metadata": {
        "id": "Ai7AyJDCh4yC",
        "colab": {
          "base_uri": "https://localhost:8080/"
        },
        "outputId": "8db1f601-d1c0-47f6-fa59-861f1a8f52d4"
      },
      "outputs": [
        {
          "output_type": "stream",
          "name": "stdout",
          "text": [
            "782/782 [==============================] - 25s 31ms/step - loss: 1.0469 - accuracy: 0.8147\n",
            "Test score: 1.0469002723693848\n",
            "Test accuracy: 0.8146799802780151\n"
          ]
        }
      ],
      "source": [
        "score, acc = model.evaluate(x_test, y_test,batch_size=BATCH_SIZE)\n",
        "print('Test score:', score)\n",
        "print('Test accuracy:', acc)"
      ]
    },
    {
      "cell_type": "code",
      "execution_count": null,
      "metadata": {
        "id": "cCqtX_ILiLTv",
        "colab": {
          "base_uri": "https://localhost:8080/",
          "height": 297
        },
        "outputId": "55d3e4da-a8ac-4e0a-dd82-631b07221d6a"
      },
      "outputs": [
        {
          "output_type": "display_data",
          "data": {
            "text/plain": [
              "<Figure size 432x288 with 2 Axes>"
            ],
            "image/png": "[encoded data removed]"
          },
          "metadata": {
            "needs_background": "light"
          }
        }
      ],
      "source": [
        "plt.subplot(211)\n",
        "plt.title(\"Accuracy\")\n",
        "plt.plot(history.history[\"accuracy\"], color=\"g\", label=\"Train\")\n",
        "plt.plot(history.history[\"val_accuracy\"], color=\"b\", label=\"Validation\")\n",
        "plt.legend(loc=\"best\")\n",
        "plt.subplot(212)\n",
        "plt.title(\"Loss\")\n",
        "plt.plot(history.history[\"loss\"], color=\"g\", label=\"Train\")\n",
        "plt.plot(history.history[\"val_loss\"], color=\"b\", label=\"Validation\")\n",
        "plt.legend(loc=\"best\")\n",
        "plt.tight_layout()\n",
        "plt.show()"
      ]
    }
  ],
  "metadata": {
    "colab": {
      "provenance": []
    },
    "kernelspec": {
      "display_name": "Python 3",
      "name": "python3"
    },
    "language_info": {
      "name": "python"
    }
  },
  "nbformat": 4,
  "nbformat_minor": 0
}