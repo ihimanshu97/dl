{
  "nbformat": 4,
  "nbformat_minor": 0,
  "metadata": {
    "colab": {
      "provenance": []
    },
    "kernelspec": {
      "name": "python3",
      "display_name": "Python 3"
    },
    "language_info": {
      "name": "python"
    }
  },
  "cells": [
    {
      "cell_type": "markdown",
      "source": [
        "**Import libraries**"
      ],
      "metadata": {
        "id": "E65QUgv3UgIj"
      }
    },
    {
      "cell_type": "code",
      "source": [
        "import numpy as np\n",
        "import keras\n",
        "from keras.datasets import mnist\n",
        "from keras.models import Model\n",
        "from keras.layers import Dense, Input\n",
        "from keras.layers import Conv2D, MaxPooling2D, Dropout, Flatten\n",
        "from keras import backend as k"
      ],
      "metadata": {
        "id": "YUaWL_Y8UdaD"
      },
      "execution_count": null,
      "outputs": []
    },
    {
      "cell_type": "markdown",
      "source": [
        "**load mnist dataset**"
      ],
      "metadata": {
        "id": "RmyGI2jtUw0s"
      }
    },
    {
      "cell_type": "code",
      "source": [
        "(X_train, y_train), (X_test, y_test) = mnist.load_data()"
      ],
      "metadata": {
        "id": "GYfR4kenUoxw"
      },
      "execution_count": null,
      "outputs": []
    },
    {
      "cell_type": "code",
      "source": [
        "import matplotlib.pyplot as plt\n",
        "fig = plt.figure()\n",
        "for i in range(9):\n",
        "  plt.subplot(3,3,i+1)\n",
        "  plt.tight_layout()\n",
        "  plt.imshow(X_train[i], cmap='gray', interpolation='none')\n",
        "  plt.title(\"Digit: {}\".format(y_train[i]))\n",
        "  plt.xticks([])\n",
        "  plt.yticks([])\n",
        "fig"
      ],
      "metadata": {
        "colab": {
          "base_uri": "https://localhost:8080/",
          "height": 551
        },
        "id": "8N2yXK0LU0Cw",
        "outputId": "eab305bb-5899-46a4-f8fb-bf73bb1d731e"
      },
      "execution_count": null,
      "outputs": [
        {
          "output_type": "execute_result",
          "data": {
            "text/plain": [
              "<Figure size 432x288 with 9 Axes>"
            ],
            "image/png": "[encoded data removed]"
          },
          "metadata": {},
          "execution_count": 21
        },
        {
          "output_type": "display_data",
          "data": {
            "text/plain": [
              "<Figure size 432x288 with 9 Axes>"
            ],
            "image/png": "[encoded data removed]"
          },
          "metadata": {}
        }
      ]
    },
    {
      "cell_type": "markdown",
      "source": [
        "**Reshaping**"
      ],
      "metadata": {
        "id": "iqFOns4tVnUF"
      }
    },
    {
      "cell_type": "code",
      "source": [
        "#this assumes our data format\n",
        "#For 3D data, \"channels_last\" assumes(conv_dim1, conv_dim2, conv_dim3, channels)\n",
        "#while \"channels_first\" assumes (channels, conv_dim1, conv_dim2, conv_dim3).\n",
        "from keras import backend as k\n",
        "img_rows, img_cols=28, 28\n",
        "\n",
        "if k.image_data_format() == 'channels_first':\n",
        "    X_train = X_train.reshape(X_train.shape[0], 1, img_rows, img_cols)\n",
        "    X_test = X_test.reshape(X_test.shape[0], 1, img_rows, img_cols)\n",
        "    input_shape = (1, img_rows, img_cols)\n",
        "else:\n",
        "    X_train = X_train.reshape(X_train.shape[0], img_rows, img_cols, 1)\n",
        "    X_test = X_test.reshape(X_test.shape[0], img_rows, img_cols, 1)\n",
        "    input_shape = (img_rows, img_cols, 1)\n",
        "#more reshaping\n",
        "X_train = X_train.astype('float32')\n",
        "X_test = X_test.astype('float32')\n",
        "X_train /= 255\n",
        "X_test /= 255\n",
        "print('X_train shape:', X_train.shape) "
      ],
      "metadata": {
        "colab": {
          "base_uri": "https://localhost:8080/"
        },
        "id": "wkBt3Im1VZJV",
        "outputId": "6d74246c-23c6-41f8-c463-798dabd3da99"
      },
      "execution_count": null,
      "outputs": [
        {
          "output_type": "stream",
          "name": "stdout",
          "text": [
            "X_train shape: (60000, 28, 28, 1)\n"
          ]
        }
      ]
    },
    {
      "cell_type": "code",
      "source": [
        "import keras\n",
        "#set number of categories\n",
        "num_category = 10\n",
        "# convert class vectors to binary class matrices\n",
        "y_train = keras.utils.to_categorical(y_train, num_category)\n",
        "y_test = keras.utils.to_categorical(y_test, num_category)"
      ],
      "metadata": {
        "id": "t_Mk_DD6V3mF"
      },
      "execution_count": null,
      "outputs": []
    },
    {
      "cell_type": "markdown",
      "source": [
        "**Building and compiling of the model**"
      ],
      "metadata": {
        "id": "07NpemjFWzAI"
      }
    },
    {
      "cell_type": "code",
      "source": [
        "from keras.models import Sequential\n",
        "model = Sequential()\n",
        "#convolutional layer with rectified linear unit activation\n",
        "model.add(Conv2D(32, kernel_size=(3, 3),\n",
        "                 activation='relu',\n",
        "                 input_shape=input_shape))\n",
        "\n",
        "#32 convolution filters used each of size 3x3 again\n",
        "model.add(Conv2D(64, (3, 3), activation='relu'))\n",
        "\n",
        "#64 convolution filters used each of size 3x3\n",
        "#choose the best features via pooling\n",
        "model.add(MaxPooling2D(pool_size=(2, 2)))\n",
        "\n",
        "#randomly turn neurons on and off to improve convergence\n",
        "model.add(Dropout(0.25))\n",
        "\n",
        "#flatten since too many dimensions, we only want a classification output\n",
        "model.add(Flatten())\n",
        "\n",
        "#fully connected to get all relevant data\n",
        "model.add(Dense(128, activation='relu'))\n",
        "\n",
        "#one more dropout for convergence' sake :) \n",
        "model.add(Dropout(0.5))\n",
        "\n",
        "#output a softmax to squash the matrix into output probabilities\n",
        "model.add(Dense(num_category, activation='softmax'))"
      ],
      "metadata": {
        "id": "69HnJwdwWu4U"
      },
      "execution_count": null,
      "outputs": []
    },
    {
      "cell_type": "code",
      "source": [
        "#Adaptive learning rate (adaDelta) is a popular form of gradient descent\n",
        "#rivaled only by adam and adagrad\n",
        "#categorical ce since we have multiple classes (10) \n",
        "\n",
        "model.compile(loss=keras.losses.categorical_crossentropy,\n",
        "              optimizer=keras.optimizers.Adadelta(),\n",
        "              metrics=['accuracy'])"
      ],
      "metadata": {
        "id": "ZGmvjGDZXMMl"
      },
      "execution_count": null,
      "outputs": []
    },
    {
      "cell_type": "markdown",
      "source": [
        "**Training and evaluating the model**"
      ],
      "metadata": {
        "id": "r6Q_GJIKXk-7"
      }
    },
    {
      "cell_type": "code",
      "source": [
        "batch_size = 128\n",
        "num_epoch = 10\n",
        "#model training\n",
        "model_log = model.fit(X_train, y_train,\n",
        "          batch_size=batch_size,\n",
        "          epochs=num_epoch,\n",
        "          verbose=1,\n",
        "          validation_data=(X_test, y_test))"
      ],
      "metadata": {
        "colab": {
          "base_uri": "https://localhost:8080/"
        },
        "id": "UWUDprjkXh4z",
        "outputId": "65b578cc-2e4c-47de-95a5-4f963285e236"
      },
      "execution_count": null,
      "outputs": [
        {
          "output_type": "stream",
          "name": "stdout",
          "text": [
            "Epoch 1/10\n",
            "469/469 [==============================] - 98s 209ms/step - loss: 2.2741 - accuracy: 0.1491 - val_loss: 2.2136 - val_accuracy: 0.3010\n",
            "Epoch 2/10\n",
            "469/469 [==============================] - 96s 204ms/step - loss: 2.1800 - accuracy: 0.2815 - val_loss: 2.0974 - val_accuracy: 0.5248\n",
            "Epoch 3/10\n",
            "469/469 [==============================] - 94s 200ms/step - loss: 2.0644 - accuracy: 0.3952 - val_loss: 1.9504 - val_accuracy: 0.6508\n",
            "Epoch 4/10\n",
            "469/469 [==============================] - 94s 201ms/step - loss: 1.9172 - accuracy: 0.4856 - val_loss: 1.7684 - val_accuracy: 0.7181\n",
            "Epoch 5/10\n",
            "469/469 [==============================] - 94s 201ms/step - loss: 1.7501 - accuracy: 0.5459 - val_loss: 1.5631 - val_accuracy: 0.7614\n",
            "Epoch 6/10\n",
            "469/469 [==============================] - 95s 202ms/step - loss: 1.5715 - accuracy: 0.5970 - val_loss: 1.3511 - val_accuracy: 0.7871\n",
            "Epoch 7/10\n",
            "469/469 [==============================] - 94s 200ms/step - loss: 1.3996 - accuracy: 0.6342 - val_loss: 1.1575 - val_accuracy: 0.8046\n",
            "Epoch 8/10\n",
            "469/469 [==============================] - 95s 204ms/step - loss: 1.2515 - accuracy: 0.6611 - val_loss: 0.9989 - val_accuracy: 0.8173\n",
            "Epoch 9/10\n",
            "469/469 [==============================] - 94s 201ms/step - loss: 1.1364 - accuracy: 0.6815 - val_loss: 0.8772 - val_accuracy: 0.8251\n",
            "Epoch 10/10\n",
            "469/469 [==============================] - 96s 204ms/step - loss: 1.0414 - accuracy: 0.7002 - val_loss: 0.7830 - val_accuracy: 0.8328\n"
          ]
        }
      ]
    },
    {
      "cell_type": "code",
      "source": [
        "score = model.evaluate(X_test, y_test, verbose=0)\n",
        "print('Test loss:', score[0]) \n",
        "print('Test accuracy:', score[1]) \n"
      ],
      "metadata": {
        "colab": {
          "base_uri": "https://localhost:8080/"
        },
        "id": "sei2agxRXr0d",
        "outputId": "033e5121-c7c4-4e88-ee09-23516da75852"
      },
      "execution_count": null,
      "outputs": [
        {
          "output_type": "stream",
          "name": "stdout",
          "text": [
            "Test loss: 0.7830407619476318\n",
            "Test accuracy: 0.8327999711036682\n"
          ]
        }
      ]
    }
  ]
}